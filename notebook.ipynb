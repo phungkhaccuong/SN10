{
 "cells": [
  {
   "cell_type": "code",
   "execution_count": 2,
   "metadata": {},
   "outputs": [
    {
     "data": {
      "text/plain": [
       "True"
      ]
     },
     "execution_count": 2,
     "metadata": {},
     "output_type": "execute_result"
    }
   ],
   "source": [
    "from sturdy.pools import generate_assets_and_pools\n",
    "from sturdy.protocol import AllocateAssets\n",
    "from sturdy.utils.misc import greedy_allocation_algorithm\n",
    "from sturdy.utils.lazy import lazy_allocation_algorithm\n",
    "\n",
    "assets_and_pools = generate_assets_and_pools()\n",
    "# print(f'pools: {assets_and_pools[\"pools\"]}')\n",
    "synapse = AllocateAssets(assets_and_pools=assets_and_pools)\n",
    "greedy_allocations = greedy_allocation_algorithm(synapse=synapse)\n",
    "# greedy_allocations = lazy_allocation_algorithm(synapse=synapse)\n",
    "# Assert that all allocated amounts are more than equal to the minimum borrow amounts\n",
    "\n",
    "all(\n",
    "    amount >= assets_and_pools[\"pools\"][pool_id][\"borrow_amount\"]\n",
    "    for pool_id, amount in greedy_allocations.items()\n",
    ")"
   ]
  },
  {
   "cell_type": "code",
   "execution_count": 24,
   "metadata": {},
   "outputs": [
    {
     "data": {
      "text/html": [
       "<pre style=\"white-space:pre;overflow-x:auto;line-height:normal;font-family:Menlo,'DejaVu Sans Mono',consolas,'Courier New',monospace\"><span style=\"color: #800000; text-decoration-color: #800000\">╭─────────────────────────────── </span><span style=\"color: #800000; text-decoration-color: #800000; font-weight: bold\">Traceback </span><span style=\"color: #bf7f7f; text-decoration-color: #bf7f7f; font-weight: bold\">(most recent call last)</span><span style=\"color: #800000; text-decoration-color: #800000\"> ────────────────────────────────╮</span>\n",
       "<span style=\"color: #800000; text-decoration-color: #800000\">│</span> in <span style=\"color: #00ff00; text-decoration-color: #00ff00\">&lt;module&gt;</span>:<span style=\"color: #0000ff; text-decoration-color: #0000ff\">6</span>                                                                                    <span style=\"color: #800000; text-decoration-color: #800000\">│</span>\n",
       "<span style=\"color: #800000; text-decoration-color: #800000\">│</span>                                                                                                  <span style=\"color: #800000; text-decoration-color: #800000\">│</span>\n",
       "<span style=\"color: #800000; text-decoration-color: #800000\">│</span>   <span style=\"color: #7f7f7f; text-decoration-color: #7f7f7f\">3 </span><span style=\"color: #0000ff; text-decoration-color: #0000ff\">from</span> <span style=\"color: #00ffff; text-decoration-color: #00ffff; text-decoration: underline\">sturdy.validator.reward</span> <span style=\"color: #0000ff; text-decoration-color: #0000ff\">import</span> get_rewards                                              <span style=\"color: #800000; text-decoration-color: #800000\">│</span>\n",
       "<span style=\"color: #800000; text-decoration-color: #800000\">│</span>   <span style=\"color: #7f7f7f; text-decoration-color: #7f7f7f\">4 </span>                                                                                             <span style=\"color: #800000; text-decoration-color: #800000\">│</span>\n",
       "<span style=\"color: #800000; text-decoration-color: #800000\">│</span>   <span style=\"color: #7f7f7f; text-decoration-color: #7f7f7f\">5 </span>                                                                                             <span style=\"color: #800000; text-decoration-color: #800000\">│</span>\n",
       "<span style=\"color: #800000; text-decoration-color: #800000\">│</span> <span style=\"color: #800000; text-decoration-color: #800000\">❱ </span>6 get_rewards(greedy_allocations, assets_and_pools)                                            <span style=\"color: #800000; text-decoration-color: #800000\">│</span>\n",
       "<span style=\"color: #800000; text-decoration-color: #800000\">│</span>   <span style=\"color: #7f7f7f; text-decoration-color: #7f7f7f\">7 </span>                                                                                             <span style=\"color: #800000; text-decoration-color: #800000\">│</span>\n",
       "<span style=\"color: #800000; text-decoration-color: #800000\">╰──────────────────────────────────────────────────────────────────────────────────────────────────╯</span>\n",
       "<span style=\"color: #ff0000; text-decoration-color: #ff0000; font-weight: bold\">TypeError: </span><span style=\"color: #800080; text-decoration-color: #800080; font-weight: bold\">get_rewards</span><span style=\"font-weight: bold\">()</span> missing <span style=\"color: #008080; text-decoration-color: #008080; font-weight: bold\">3</span> required positional arguments: <span style=\"color: #008000; text-decoration-color: #008000\">'uids'</span>, <span style=\"color: #008000; text-decoration-color: #008000\">'assets_and_pools'</span>, and <span style=\"color: #008000; text-decoration-color: #008000\">'responses'</span>\n",
       "</pre>\n"
      ],
      "text/plain": [
       "\u001b[31m╭─\u001b[0m\u001b[31m──────────────────────────────\u001b[0m\u001b[31m \u001b[0m\u001b[1;31mTraceback \u001b[0m\u001b[1;2;31m(most recent call last)\u001b[0m\u001b[31m \u001b[0m\u001b[31m───────────────────────────────\u001b[0m\u001b[31m─╮\u001b[0m\n",
       "\u001b[31m│\u001b[0m in \u001b[92m<module>\u001b[0m:\u001b[94m6\u001b[0m                                                                                    \u001b[31m│\u001b[0m\n",
       "\u001b[31m│\u001b[0m                                                                                                  \u001b[31m│\u001b[0m\n",
       "\u001b[31m│\u001b[0m   \u001b[2m3 \u001b[0m\u001b[94mfrom\u001b[0m \u001b[4;96msturdy\u001b[0m\u001b[4;96m.\u001b[0m\u001b[4;96mvalidator\u001b[0m\u001b[4;96m.\u001b[0m\u001b[4;96mreward\u001b[0m \u001b[94mimport\u001b[0m get_rewards                                              \u001b[31m│\u001b[0m\n",
       "\u001b[31m│\u001b[0m   \u001b[2m4 \u001b[0m                                                                                             \u001b[31m│\u001b[0m\n",
       "\u001b[31m│\u001b[0m   \u001b[2m5 \u001b[0m                                                                                             \u001b[31m│\u001b[0m\n",
       "\u001b[31m│\u001b[0m \u001b[31m❱ \u001b[0m6 get_rewards(greedy_allocations, assets_and_pools)                                            \u001b[31m│\u001b[0m\n",
       "\u001b[31m│\u001b[0m   \u001b[2m7 \u001b[0m                                                                                             \u001b[31m│\u001b[0m\n",
       "\u001b[31m╰──────────────────────────────────────────────────────────────────────────────────────────────────╯\u001b[0m\n",
       "\u001b[1;91mTypeError: \u001b[0m\u001b[1;35mget_rewards\u001b[0m\u001b[1m(\u001b[0m\u001b[1m)\u001b[0m missing \u001b[1;36m3\u001b[0m required positional arguments: \u001b[32m'uids'\u001b[0m, \u001b[32m'assets_and_pools'\u001b[0m, and \u001b[32m'responses'\u001b[0m\n"
      ]
     },
     "metadata": {},
     "output_type": "display_data"
    }
   ],
   "source": [
    "import numpy as np\n",
    "\n",
    "from sturdy.validator.reward import get_rewards\n",
    "\n",
    "\n",
    "get_rewards(greedy_allocations, assets_and_pools)"
   ]
  },
  {
   "cell_type": "code",
   "execution_count": 3,
   "metadata": {},
   "outputs": [
    {
     "name": "stdout",
     "output_type": "stream",
     "text": [
      "Naive apy: 0.19270409917000003, \n",
      "Greedy apy: 0.08575739930637451, \n",
      "Humble apy: 0.016344691899707817, \n"
     ]
    }
   ],
   "source": [
    "%load_ext autoreload\n",
    "%autoreload 2\n",
    "from sturdy.utils.misc import calculate_apy\n",
    "from sturdy.utils.lazy import lazy_and_humble_allocation_algorithm, lazy_allocation_algorithm\n",
    "from sturdy.validator.reward import get_rewards\n",
    "import sys\n",
    "\n",
    "def get_apy(allocations, assets_and_pools):\n",
    "    max_apy = sys.float_info.min\n",
    "    alloc_yield = 0\n",
    "\n",
    "    initial_balance = assets_and_pools[\"total_assets\"]\n",
    "    total_allocated = 0\n",
    "    cheating = False\n",
    "\n",
    "    for pool_id, allocation in allocations.items():\n",
    "        pool = assets_and_pools[\"pools\"][pool_id]\n",
    "        total_allocated += allocation\n",
    "\n",
    "        # reject allocations if miner is cheating somehow\n",
    "        if total_allocated > initial_balance or allocation < pool[\"borrow_amount\"]:\n",
    "            # punish if miner they're cheating\n",
    "            # TODO: create a more forgiving penalty system?\n",
    "            raise Exception('Cheating')\n",
    "\n",
    "        # calculate yield for given pool allocation\n",
    "        util_rate = pool[\"borrow_amount\"] / allocation\n",
    "        interest_rate = calculate_apy(util_rate, pool)\n",
    "        alloc_yield += allocation * interest_rate\n",
    "\n",
    "    apy = alloc_yield / initial_balance\n",
    "\n",
    "    if apy > max_apy:\n",
    "        max_apy = apy\n",
    "\n",
    "    return apy\n",
    "\n",
    "\n",
    "current_allocations = lazy_allocation_algorithm(synapse=synapse)\n",
    "humble_allocations = lazy_and_humble_allocation_algorithm(synapse=synapse)\n",
    "print(f'Naive apy: {get_apy(current_allocations, assets_and_pools)}, ')\n",
    "print(f'Greedy apy: {get_apy(greedy_allocations, assets_and_pools)}, ')\n",
    "print(f'Humble apy: {get_apy(humble_allocations, assets_and_pools)}, ')\n"
   ]
  },
  {
   "cell_type": "code",
   "execution_count": 11,
   "metadata": {},
   "outputs": [
    {
     "data": {
      "text/plain": [
       "{'0': 0.008,\n",
       " '1': 0.08600000000000001,\n",
       " '2': 0.036000000000000004,\n",
       " '3': 0.045,\n",
       " '4': 0.061,\n",
       " '5': 0.057,\n",
       " '6': 0.09,\n",
       " '7': 0.048,\n",
       " '8': 0.084,\n",
       " '9': 0.047}"
      ]
     },
     "execution_count": 11,
     "metadata": {},
     "output_type": "execute_result"
    }
   ],
   "source": [
    "current_allocations"
   ]
  }
 ],
 "metadata": {
  "kernelspec": {
   "display_name": "sturdy-subnet",
   "language": "python",
   "name": "python3"
  },
  "language_info": {
   "codemirror_mode": {
    "name": "ipython",
    "version": 3
   },
   "file_extension": ".py",
   "mimetype": "text/x-python",
   "name": "python",
   "nbconvert_exporter": "python",
   "pygments_lexer": "ipython3",
   "version": "3.10.14"
  }
 },
 "nbformat": 4,
 "nbformat_minor": 2
}
