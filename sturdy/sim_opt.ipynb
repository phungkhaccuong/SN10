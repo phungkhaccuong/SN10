{
 "cells": [
  {
   "cell_type": "markdown",
   "metadata": {},
   "source": [
    "# Optimize under simulation\n",
    "Since simulator will generate 1 list of pool history and we need to optimize the sum of all apy from each pool, we will use this notebook to examine the effect of different optimize algorithm.\n"
   ]
  },
  {
   "cell_type": "code",
   "execution_count": 63,
   "metadata": {},
   "outputs": [
    {
     "name": "stdout",
     "output_type": "stream",
     "text": [
      "The autoreload extension is already loaded. To reload it, use:\n",
      "  %reload_ext autoreload\n",
      "best 15.397214925855852\n",
      "yiop 16.524395009716375\n",
      "new 16.735838130315905\n"
     ]
    }
   ],
   "source": [
    "%load_ext autoreload\n",
    "%autoreload 2\n",
    "import copy\n",
    "import json\n",
    "from sturdy.pools import generate_assets_and_pools\n",
    "from sturdy.protocol import AllocateAssets\n",
    "from sturdy.utils.sim_yiop import sim_yiop_algorithm, simulated_yiop_allocation_algorithm_2, global_yiop_allocation_algorithm, simulated_yiop_allocation_algorithm\n",
    "from sturdy.utils.yiop import yiop_allocation_algorithm\n",
    "from sturdy.validator import simulator\n",
    "from sturdy.validator.reward import calculate_aggregate_apy\n",
    "\n",
    "allocations = {'0': 1, '1': 0}\n",
    "\n",
    "def load_assets_and_pools(filename):\n",
    "    with open(filename, 'r') as f:\n",
    "        return json.load(f)\n",
    "assets_and_pools = load_assets_and_pools('../sample_pools_and_miner_answers.json')\n",
    "assets_and_pools['total_assets'] = 2.0\n",
    "# print(assets_and_pools['answers']['136'])\n",
    "\n",
    "new_ap = generate_assets_and_pools()\n",
    "assets_and_pools['pools'] = new_ap['pools']\n",
    "allocation = assets_and_pools['answers']['136']['allocations']\n",
    "\n",
    "def get_sim(allocation):\n",
    "    sim = simulator.Simulator()\n",
    "    sim.initialize()\n",
    "    sim.reset()\n",
    "    # sim_allocation = {k: 0 for Vk in allocation.keys()}\n",
    "    sim_allocation = allocation\n",
    "    sim.init_data(init_assets_and_pools=copy.deepcopy(assets_and_pools), init_allocations=sim_allocation)\n",
    "    sim.update_reserves_with_allocs()\n",
    "    sim.run()\n",
    "    return sim\n",
    "\n",
    "sim = simulator.Simulator()\n",
    "sim.initialize()\n",
    "sim.reset()\n",
    "sim.init_data(init_assets_and_pools=copy.deepcopy(assets_and_pools), init_allocations=allocation)\n",
    "sim.update_reserves_with_allocs()\n",
    "sim.run()\n",
    "\n",
    "yiop_allocation = yiop_allocation_algorithm(AllocateAssets(assets_and_pools=assets_and_pools))\n",
    "new_allocation = simulated_yiop_allocation_algorithm(AllocateAssets(assets_and_pools=assets_and_pools))\n",
    "\n",
    "sim = get_sim(allocation)\n",
    "print('best', calculate_aggregate_apy(allocation, assets_and_pools, sim.timesteps, sim.pool_history))\n",
    "sim = get_sim(yiop_allocation)\n",
    "print('yiop', calculate_aggregate_apy(yiop_allocation, assets_and_pools, sim.timesteps, sim.pool_history))\n",
    "sim = get_sim(new_allocation)\n",
    "print('new', calculate_aggregate_apy(new_allocation, assets_and_pools, sim.timesteps, sim.pool_history))"
   ]
  }
 ],
 "metadata": {
  "kernelspec": {
   "display_name": "SN10",
   "language": "python",
   "name": "python3"
  },
  "language_info": {
   "codemirror_mode": {
    "name": "ipython",
    "version": 3
   },
   "file_extension": ".py",
   "mimetype": "text/x-python",
   "name": "python",
   "nbconvert_exporter": "python",
   "pygments_lexer": "ipython3",
   "version": "3.10.14"
  }
 },
 "nbformat": 4,
 "nbformat_minor": 2
}
