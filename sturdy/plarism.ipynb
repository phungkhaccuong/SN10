{
 "cells": [
  {
   "cell_type": "code",
   "execution_count": 7,
   "metadata": {},
   "outputs": [],
   "source": [
    "import numpy as np\n",
    "from typing import Dict, Union\n",
    "from sturdy.validator.reward import format_allocations\n",
    "\n",
    "\n",
    "def calc_similarity_matrix(apys_and_allocations: Dict[str, Dict[str, Union[Dict[str, float], float]]],\n",
    "                               assets_and_pools: Dict[str, Union[Dict[str, float], float]]):\n",
    "    similarity_matrix = {}\n",
    "    for miner_a, info_a in apys_and_allocations.items():\n",
    "        _alloc_a = info_a[\"allocations\"]\n",
    "        alloc_a = np.array(\n",
    "            list(format_allocations(_alloc_a, assets_and_pools).values())\n",
    "        )\n",
    "        similarity_matrix[miner_a] = {}\n",
    "        for miner_b, info_b in apys_and_allocations.items():\n",
    "            if miner_a != miner_b:\n",
    "                _alloc_b = info_b[\"allocations\"]\n",
    "                alloc_b = np.array(\n",
    "                    list(format_allocations(_alloc_b, assets_and_pools).values())\n",
    "                )\n",
    "                similarity_matrix[miner_a][miner_b] = np.linalg.norm(alloc_a - alloc_b)\n",
    "    return similarity_matrix"
   ]
  },
  {
   "cell_type": "code",
   "execution_count": 15,
   "metadata": {},
   "outputs": [],
   "source": [
    "from sturdy.igreedy import igreedy_allocation_algorithm\n",
    "from sturdy.pools import generate_assets_and_pools\n",
    "from sturdy.protocol import AllocateAssets\n",
    "from sturdy.score import calc_strategy_apy, strategies_apy\n",
    "from sturdy.validator.reward import calculate_penalties\n",
    "\n",
    "\n",
    "assets_and_pools = generate_assets_and_pools()\n",
    "allocation = igreedy_allocation_algorithm(AllocateAssets(assets_and_pools=assets_and_pools))\n",
    "apy = calc_strategy_apy(allocation, assets_and_pools)\n",
    "\n",
    "apys_and_allocations = {\n",
    "    '0': {\n",
    "        'apy': apy,\n",
    "        'allocations': allocation\n",
    "    },\n",
    "    '1': {\n",
    "        'apy': apy,\n",
    "        'allocations': allocation\n",
    "    }\n",
    "}\n",
    "axon_times = {k: 0 for k, _ in apys_and_allocations.items()}\n",
    "\n",
    "similarity_matrix = calc_similarity_matrix(apys_and_allocations, assets_and_pools)\n",
    "\n",
    "penalties = calculate_penalties(similarity_matrix, axon_times=axon_times)"
   ]
  },
  {
   "cell_type": "code",
   "execution_count": 111,
   "metadata": {},
   "outputs": [
    {
     "name": "stdout",
     "output_type": "stream",
     "text": [
      "{'0': 0, '1': 0, '2': 0, '3': 0, '4': 0, '5': 0, '6': 0, '7': 0, '8': 0, '9': 0, '10': 0, '11': 0, '12': 0, '13': 0, '14': 0, '15': 0, '16': 0, '17': 0, '18': 0, '19': 0, '20': 0, '21': 0, '22': 0, '23': 0, '24': 0, '25': 0, '26': 0, '27': 0, '28': 0, '29': 0, '30': 0, '31': 0, '32': 0, '33': 0, '34': 0, '35': 0, '36': 0, '37': 0, '38': 0, '39': 0, '40': 0, '41': 0, '42': 0, '43': 0, '44': 0, '45': 0, '46': 0, '47': 0, '48': 0, '49': 0, '50': 0, '51': 0, '52': 0, '53': 0, '54': 0, '55': 0, '56': 0, '57': 0, '58': 0, '59': 0, '60': 0, '61': 0, '62': 0, '63': 0, '64': 0, '65': 0, '66': 0, '67': 0, '68': 0, '69': 0, '70': 0, '71': 0, '72': 0, '73': 0, '74': 0, '75': 0, '76': 0, '77': 0, '78': 0, '79': 0, '80': 0, '81': 0, '82': 0, '83': 0, '84': 0, '85': 0, '86': 0, '87': 0, '88': 0, '89': 0, '90': 0, '91': 0, '92': 0, '93': 0, '94': 0, '95': 0, '96': 0, '97': 0, '98': 0, '99': 0}\n"
     ]
    }
   ],
   "source": [
    "from scipy.spatial.distance import pdist, squareform\n",
    "\n",
    "\n",
    "def generate_sphere_packing(N, M, min_dist):\n",
    "    # Initialize an empty list to store the valid vectors\n",
    "    vectors = []\n",
    "\n",
    "    while len(vectors) < M:\n",
    "        candidate = np.random.randn(N)  # Generate a random candidate vector\n",
    "        candidate = candidate / (np.linalg.norm(candidate) * 10)  # Normalize the candidate vector\n",
    "        # if all(np.linalg.norm(candidate - v) >= min_dist for v in vectors) and np.linalg.norm(candidate) < min_dist + 1e-2:\n",
    "        if all(np.linalg.norm(candidate - v) >= min_dist for v in vectors):\n",
    "            vectors.append(candidate)\n",
    "\n",
    "    return np.array(vectors)\n",
    "\n",
    "# Example parameters\n",
    "N = 10  # Dimension\n",
    "M = 100  # Number of vectors\n",
    "min_dist = 0.1  # Minimum L2 norm distance\n",
    "\n",
    "vectors = generate_sphere_packing(N, M, min_dist)\n",
    "\n",
    "apys_and_allocations = {}\n",
    "for idx, vec in enumerate(vectors):\n",
    "    target = vec.copy() + np.array(list(allocation.values()))\n",
    "    apys_and_allocations[str(idx)] = {\n",
    "        'allocations': {f'{i}': target[i] for i in range(N)},\n",
    "    }\n",
    "\n",
    "axon_times = {k: 0 for k, _ in apys_and_allocations.items()}\n",
    "\n",
    "similarity_matrix = calc_similarity_matrix(apys_and_allocations, assets_and_pools)\n",
    "\n",
    "penalties = calculate_penalties(similarity_matrix, axon_times=axon_times)\n",
    "\n",
    "print(penalties)"
   ]
  },
  {
   "cell_type": "code",
   "execution_count": 118,
   "metadata": {},
   "outputs": [
    {
     "data": {
      "text/plain": [
       "array([ 0.00687023, -0.00013409,  0.00755292, -0.0612751 ,  0.05416116,\n",
       "        0.04018364, -0.00178953, -0.03705576,  0.01185207, -0.00872571])"
      ]
     },
     "execution_count": 118,
     "metadata": {},
     "output_type": "execute_result"
    }
   ],
   "source": [
    "np.linalg.norm(vectors[2])\n",
    "vectors[0]"
   ]
  }
 ],
 "metadata": {
  "kernelspec": {
   "display_name": "SN10",
   "language": "python",
   "name": "python3"
  },
  "language_info": {
   "codemirror_mode": {
    "name": "ipython",
    "version": 3
   },
   "file_extension": ".py",
   "mimetype": "text/x-python",
   "name": "python",
   "nbconvert_exporter": "python",
   "pygments_lexer": "ipython3",
   "version": "3.10.14"
  }
 },
 "nbformat": 4,
 "nbformat_minor": 2
}
