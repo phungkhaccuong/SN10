{
 "cells": [
  {
   "cell_type": "code",
   "execution_count": 7,
   "metadata": {},
   "outputs": [],
   "source": [
    "import json\n",
    "import re\n",
    "from loguru import logger\n",
    "\n",
    "\n",
    "def parse_log_file(log_file_path, pattern='sorted apys'):\n",
    "    parsed_data = []\n",
    "    # json_pattern = re.compile(r'sorted apys: ({.*})')\n",
    "    json_pattern = re.compile(rf'{re.escape(pattern)}\\s*({{.*}})')\n",
    "    # json_pattern = re.compile(rf'{re.escape(pattern)}({{.*}})')\n",
    "\n",
    "    def convert_to_valid_json(json_str):\n",
    "        # Replace unquoted keys with quoted keys\n",
    "        json_str = re.sub(r'(\\d+):', r'\"\\1\":', json_str)\n",
    "        return json_str\n",
    "\n",
    "    with open(log_file_path, 'r') as log_file:\n",
    "        for line in log_file:\n",
    "            match = json_pattern.search(line)\n",
    "            if match:\n",
    "                json_str = match.group(1).strip()\n",
    "                json_str = convert_to_valid_json(json_str)\n",
    "                try:\n",
    "                    json_data = json.loads(json_str)\n",
    "                    parsed_data.append(json_data)\n",
    "                except json.JSONDecodeError as e:\n",
    "                    logger.error(f\"Error parsing JSON: {e}\")\n",
    "\n",
    "    return parsed_data\n",
    "\n",
    "# Example usage\n",
    "log_file_path = '/Users/chau.hoang/Downloads/pious_snow.log'\n",
    "# parsed_json_list = parse_log_file(log_file_path, pattern='sorted axon times: ')\n",
    "parsed_json_list = parse_log_file(log_file_path, pattern='sorted apys: ')"
   ]
  },
  {
   "cell_type": "code",
   "execution_count": 8,
   "metadata": {},
   "outputs": [
    {
     "name": "stdout",
     "output_type": "stream",
     "text": [
      "15.508869828400883\n"
     ]
    },
    {
     "name": "stderr",
     "output_type": "stream",
     "text": [
      "/var/folders/b3/hrj2lh1d06n_0ldwgv0m27xh0000gn/T/ipykernel_59097/2006655545.py:7: FutureWarning: Series.__getitem__ treating keys as positions is deprecated. In a future version, integer keys will always be treated as labels (consistent with DataFrame behavior). To access a value by position, use `ser.iloc[pos]`\n",
      "  row[row < row[uid]].groupby(row).count().sort_values(ascending=False)\n"
     ]
    },
    {
     "data": {
      "text/plain": [
       "270\n",
       "1.545849e+01     65\n",
       "2.225074e-308    13\n",
       "1.354485e+01      1\n",
       "1.543061e+01      1\n",
       "1.550887e+01      1\n",
       "Name: 270, dtype: int64"
      ]
     },
     "execution_count": 8,
     "metadata": {},
     "output_type": "execute_result"
    }
   ],
   "source": [
    "import pandas as pd\n",
    "\n",
    "uid = '228'\n",
    "df = pd.DataFrame(parsed_json_list)\n",
    "row = df.iloc[-9]\n",
    "print(row[uid])\n",
    "row[row < row[uid]].groupby(row).count().sort_values(ascending=False)\n",
    "\n"
   ]
  },
  {
   "cell_type": "code",
   "execution_count": 9,
   "metadata": {},
   "outputs": [
    {
     "name": "stdout",
     "output_type": "stream",
     "text": [
      "279\n",
      "19.102536838206106\n",
      "\u001b[34m2024-06-10 19:48:50.271\u001b[0m | \u001b[1m      INFO      \u001b[0m | You are connecting to finney network with endpoint wss://entrypoint-finney.opentensor.ai:443.\n",
      "\u001b[34m2024-06-10 19:48:50.272\u001b[0m | \u001b[33m\u001b[1m    WARNING     \u001b[0m | We strongly encourage running a local subtensor node whenever possible. This increases decentralization and resilience of the network.\n",
      "\u001b[34m2024-06-10 19:48:50.272\u001b[0m | \u001b[33m\u001b[1m    WARNING     \u001b[0m | In a future release, local subtensor will become the default endpoint. To get ahead of this change, please run a local subtensor node and point to it.\n",
      "\u001b[34m2024-06-10 19:48:51.906\u001b[0m | \u001b[1m      INFO      \u001b[0m | Connected to finney network and wss://entrypoint-finney.opentensor.ai:443.\n"
     ]
    },
    {
     "data": {
      "image/png": "[encoded data removed]",
      "text/plain": [
       "<Figure size 640x480 with 1 Axes>"
      ]
     },
     "metadata": {},
     "output_type": "display_data"
    }
   ],
   "source": [
    "import pandas as pd\n",
    "print(len(parsed_json_list))\n",
    "# better = [p for p in parsed_json_list if p['156'] < p['83']]\n",
    "\n",
    "# print(len(better) / len(parsed_json_list))\n",
    "\n",
    "# small = [p for p in parsed_json_list if p['83'] < 1]\n",
    "\n",
    "# len(small)\n",
    "\n",
    "uid = '228'\n",
    "\n",
    "# df.iloc[-1]\n",
    "# df['time'].hist(bins=100)\n",
    "# print(f'Uid: {uid} Mean time: {df[\"time\"].mean()}')\n",
    "\n",
    "df = pd.DataFrame(parsed_json_list)\n",
    "row = df.iloc[-2]\n",
    "print(row[uid])\n",
    "row[row > 18].hist(bins=200)\n",
    "\n",
    "\n",
    "import bittensor as bt\n",
    "subtensor = bt.subtensor(network='finney')\n",
    "metagraph = subtensor.metagraph(netuid=10)\n",
    "\n"
   ]
  },
  {
   "cell_type": "code",
   "execution_count": 10,
   "metadata": {},
   "outputs": [
    {
     "name": "stdout",
     "output_type": "stream",
     "text": [
      "coldkey: 5Gq6QXY3GET1BYbTxZmUwgTkFNc7vnRXtkKdxNEhsgDuYwbL\n",
      "   5DycATA3gvJ7REPMQs7QYiVXnw5kMHUwjmhYhezsC3wygL8G\n",
      "   5CyvHzPH3J6EK7SQNB3nVCenm4xSZsyiqEWCpqywrXnbg6XY\n",
      "   5ETvgB2UjsyCa6mXy3GzJdWYzcmmPA7FhXJkwgg3uNF7VMLv\n",
      "   5EaDaFTS2cgquj1m9Nch2vVxc3m5mWseMDznkjjQ5ueGwaSh\n",
      "   5HEKWoYnrAr9PqfM7gfDDA3pnaR6BLyXPjVvAwcTFdHs4wRQ\n",
      "coldkey: 5FpeqhJ3hiJ5f4w4f82p1rptbB8kijekMJDsdgKW28hPa7gZ\n",
      "   5G11X6J48XPAjX6CGcquULPumwHVmetPD4rVpASyDzWhGU6z\n",
      "   5EervvT6FidnzvDHKX9oSBAWN1rppwkXPNMWjEicqrNnucw8\n",
      "   5FvUK9C6Bbvmdvyro3UkJSdV1E6VhCpFPbKBjf2Vbx1owJfT\n",
      "   5CMD5mR4DpHSnf6hM1WnWSGHPHoc9fZ9egWF3um9hbiZyuv4\n",
      "   5GgtjD4RNDjrPMx9yc8BCA4z5EAYkSMRte78FJU5gQvWMARn\n",
      "   5GVzEVcu3G1FEsgBi8VBNfsVwCMGXx741hZLJwaarngTQD2H\n",
      "   5HVWT3iicJ8xGxJWdne7uKQ7BEzLecDsdQbt7Z3roB2ACsuE\n",
      "   5CXdgNfShiuB7L9rcvvHYyUFXEzadQyMEbkJQRRfZLb2MCXb\n",
      "   5GbVDTfGgFeJb1PdQAFGZpBrV3tMWVkYA1SDH92xWacb3DsQ\n",
      "   5FFVQBfd1y1cjWJwdd38gNbicyKoucmhsbMfMXMswzJWyXyD\n",
      "   5Hj6KJhdRLbC3C8tuxJQzEJ1FBV1pn59YRcXVjLH2ZdAuJTy\n",
      "   5CJpX8R1YgULi2qym2ss2fWJ2owZUwLg3zF67TxeY5ni95hP\n",
      "   5Fsv5YJkMWafCe5FsLdPhfeDa3szm9cEFqMwZe1H8jwZDP21\n",
      "   5CPwbdQMdNC1W6jkXbmyb22MTkBB5KN5PbxxrkXbgpVxBMWx\n",
      "   5FCgjvwu8LCL5gsPpD9P46KNGKUhyYMTPgXDU32dyo6EVbBh\n",
      "   5CZqxfWLi56rVLgvYb7DZ9GmUsNk3tDnAfRsLfik2XNp9DNH\n",
      "   5ETmdwaqbcy3HjmWcLu9N3k9oCH3rYRgqrcpCrRZpzMJtV9v\n",
      "   5Caijuc4DGQEBYqEWPPaMMSSCfnGBrKcRMZ69qqtEkcSBrWz\n",
      "   5ChXNJJromgRuU4tUF1eGNT1tRoGYYrr3TRA6TXroui1oHzU\n",
      "coldkey: 5CoAVygsonehdmX79gCh7NBCNYWZdzG4rQqzE8AGss8DG4yw\n",
      "   5FxVQ7cuaKMJT4g3o4JCEnSZaqs4ooBdKx7c9KzaxEEcMBQC\n",
      "   5GTSLHfHLNH8APkjWZUgDCTWpFGjkwKrM28tdfbqgvDoyz1g\n",
      "   5GYpfuunPY1nmB8iqqUjrH4AF5W22hSS59pXXHbo22FM9Sn7\n",
      "   5FTR1WNzVNKmQpdkpMiqHuH1EiByGEzGzdBcZTGGtg1kGPy1\n",
      "   5CwGZShiCHUuzEd6zim36y9SM1aejFG3U34xZ5tkxkVgc8eG\n",
      "   5GpdvD1bCLvTiPxpjLYiycXAPtix79DDrgX6hwoto8D5kHsD\n",
      "   5G4VDwgEZp18zUFq2eBSPApkriwPJQE8cFFmEMCU73Z8Q9fX\n",
      "   5D7ZQWbsnh2bGNMuKohVGFH4pRTDb2cjepXrpWwV4M9Ey9kD\n",
      "   5CqVFJapGffakv92ts7o38zfXmvQ1RQEFEN6NX6ejRnjuEZK\n",
      "   5CPUKX15mqjErjN2Qs1q4q6VFRccKH88nB8p22SVj6r7qioM\n",
      "   5CfJr2sbLKQaFedEqQQiaz2t8PFjxqtBcUU98g1hSh2FDe8X\n",
      "   5H9bZbu7Cu7e8UM9Gbpfd5PDaTpnzCT5VBQ8MEETk7fHFQGk\n",
      "coldkey: 5GjPbMr9zP6BfZ812Lkyu2SBTsWRcP4y75YVxAzyzu8PS19N\n",
      "   5Fsee4y1ptXK66sTkd5wjprQ24rJPNP1EmDJmZia11tMpxGU\n",
      "   5D284sGuPZTnFfSQGqPJFwJFstGFp1E5uHzFVG3UqtazkyZv\n",
      "   5FukR1GzSM3h3iMhnm8hUmuGB9wr8Z64WEjbdBo8N2CpkY9y\n",
      "   5GgeFqjALHCJcJXjci9dbTFxDoksK86Dqa9oS1j52Exr8A6B\n",
      "   5ELrvu4WXUJLmr4ubLJgKUqxCNb9rx7x9JLBcPNh3Zz7pgVf\n",
      "   5HBcytU866GdEQ6K6H1ofaMMyLzMvBb6zttbkTP6nMPJujn5\n",
      "   5DMLiitrQj5kThAwHwPrRswzcHADv7F2peFFSKqziauHYqVZ\n"
     ]
    }
   ],
   "source": [
    "uid = '228'\n",
    "ids = row[row == row[uid]].index\n",
    "coldkey = {}\n",
    "for id in ids:\n",
    "    id = int(id)\n",
    "    if metagraph.axons[id].coldkey not in coldkey:\n",
    "        coldkey[metagraph.axons[id].coldkey] = [metagraph.axons[id].hotkey]\n",
    "    else:\n",
    "        coldkey[metagraph.axons[id].coldkey].append(metagraph.axons[id].hotkey)\n",
    "\n",
    "for k, v in coldkey.items():\n",
    "    print(f'coldkey: {k}')\n",
    "    for key in v:\n",
    "        print(f'   {key}')\n"
   ]
  },
  {
   "cell_type": "code",
   "execution_count": null,
   "metadata": {},
   "outputs": [],
   "source": []
  },
  {
   "cell_type": "code",
   "execution_count": 11,
   "metadata": {},
   "outputs": [
    {
     "data": {
      "text/plain": [
       "161    0.977560\n",
       "156    0.977560\n",
       "203    0.977560\n",
       "255    0.977560\n",
       "101    0.978851\n",
       "1      0.939425\n",
       "100    0.981928\n",
       "10     0.946424\n",
       "dtype: float64"
      ]
     },
     "execution_count": 11,
     "metadata": {},
     "output_type": "execute_result"
    }
   ],
   "source": [
    "# Sorting apy and average score according to the log\n",
    "df = pd.DataFrame(parsed_json_list)\n",
    "df['max_apy'] = df.max(axis=1)\n",
    "columns_to_scale = ['161', '156', '203', '255', '101', '1', '100', '10']\n",
    "# Calculate the ratio\n",
    "ratio_df = df[columns_to_scale].div(df['max_apy'], axis=0)\n",
    "ratio_df.mean()"
   ]
  },
  {
   "cell_type": "code",
   "execution_count": 12,
   "metadata": {},
   "outputs": [
    {
     "data": {
      "text/plain": [
       "161    0.977560\n",
       "156    0.977560\n",
       "203    0.977560\n",
       "255    0.977560\n",
       "101    0.978851\n",
       "1      0.939425\n",
       "100    0.981928\n",
       "10     0.946424\n",
       "dtype: float64"
      ]
     },
     "execution_count": 12,
     "metadata": {},
     "output_type": "execute_result"
    }
   ],
   "source": [
    "# Sorting apy and average score according to the log\n",
    "df = pd.DataFrame(parsed_json_list)\n",
    "df['max_apy'] = df.max(axis=1)\n",
    "columns_to_scale = ['161', '156', '203', '255', '101', '1', '100', '10']\n",
    "# Calculate the ratio\n",
    "ratio_df = df[columns_to_scale].div(df['max_apy'], axis=0)\n",
    "ratio_df.mean()"
   ]
  },
  {
   "cell_type": "code",
   "execution_count": 13,
   "metadata": {},
   "outputs": [
    {
     "name": "stdout",
     "output_type": "stream",
     "text": [
      "21.25532759918037\n",
      "153     2.140792e+01\n",
      "49      2.140792e+01\n",
      "138     2.140792e+01\n",
      "131     2.140792e+01\n",
      "128     2.140792e+01\n",
      "           ...      \n",
      "50     2.225074e-308\n",
      "43     2.225074e-308\n",
      "40     2.225074e-308\n",
      "20     2.225074e-308\n",
      "251    2.225074e-308\n",
      "Name: 263, Length: 250, dtype: float64\n"
     ]
    },
    {
     "data": {
      "text/plain": [
       "<Axes: >"
      ]
     },
     "execution_count": 13,
     "metadata": {},
     "output_type": "execute_result"
    },
    {
     "data": {
      "image/png": "[encoded data removed]",
      "text/plain": [
       "<Figure size 640x480 with 1 Axes>"
      ]
     },
     "metadata": {},
     "output_type": "display_data"
    }
   ],
   "source": [
    "\n",
    "df = pd.DataFrame(parsed_json_list)\n",
    "print(df.iloc[263]['244'])\n",
    "ss = df.iloc[263]\n",
    "print(ss.sort_values(ascending=False))\n",
    "ss.sort_values()[ss > 15].hist(bins=200)\n",
    "# df.iloc[263].sort_values().hist(bins=200)"
   ]
  },
  {
   "cell_type": "code",
   "execution_count": 14,
   "metadata": {},
   "outputs": [],
   "source": [
    "import json\n",
    "\n",
    "def convert_to_valid_json(json_str):\n",
    "    # Replace unquoted keys with quoted keys\n",
    "    json_str = re.sub(r'(\\d+):', r\"'\\1':\", json_str)\n",
    "    return json_str\n"
   ]
  },
  {
   "cell_type": "code",
   "execution_count": 15,
   "metadata": {},
   "outputs": [
    {
     "name": "stdout",
     "output_type": "stream",
     "text": [
      "{'apy': 20.61983099229947, 'allocations': {'0': 0.10662337287158104, '1': 0.2533625774098979, '2': 0.23525900403185127, '3': 0.18401755315927146, '4': 0.36044025423796827, '5': 0.24496563561435203, '6': 0.05040238333764486, '7': 0.1222333211330441, '8': 0.3216033590983884, '9': 0.12109253910400115}}\n",
      "{'apy': 20.61983099229947, 'allocations': {'0': 0.10662337287158104, '1': 0.2533625774098979, '2': 0.23525900403185127, '3': 0.18401755315927146, '4': 0.36044025423796827, '5': 0.24496563561435203, '6': 0.05040238333764486, '7': 0.1222333211330441, '8': 0.3216033590983884, '9': 0.12109253910400115}}\n",
      "{'apy': 19.91857056197781, 'allocations': {'0': 0.0411, '1': 0.2705, '2': 0.2805, '3': 0.1969, '4': 0.3916, '5': 0.2522, '6': 0.0001, '7': 0.0614, '8': 0.3536, '9': 0.1515}}\n",
      "{'apy': 19.91857056197781, 'allocations': {'0': 0.0411, '1': 0.2705, '2': 0.2805, '3': 0.1969, '4': 0.3916, '5': 0.2522, '6': 0.0001, '7': 0.0614, '8': 0.3536, '9': 0.1515}}\n"
     ]
    }
   ],
   "source": [
    "import re, json\n",
    "\n",
    "with open('sample_pools_and_miner_answers.json', 'r') as f:\n",
    "    data = json.load(f)\n",
    "\n",
    "alloc = data['answers']\n",
    "print(alloc['136'])\n",
    "print(alloc['212'])\n",
    "print(alloc['169'])\n",
    "print(alloc['201'])"
   ]
  },
  {
   "cell_type": "code",
   "execution_count": 16,
   "metadata": {},
   "outputs": [
    {
     "name": "stdout",
     "output_type": "stream",
     "text": [
      "136 0.10617200299035105\n",
      "169 0.1138654327635179\n"
     ]
    },
    {
     "data": {
      "text/plain": [
       "win\n",
       "136    1000\n",
       "Name: count, dtype: int64"
      ]
     },
     "execution_count": 16,
     "metadata": {},
     "output_type": "execute_result"
    }
   ],
   "source": [
    "import pandas as pd\n",
    "import numpy as np\n",
    "from sturdy.score import get_agg_apy\n",
    "from sturdy.utils.misc import supply_rate\n",
    "\n",
    "def calc_apy(pools, allocations):\n",
    "    curr_yield = 0\n",
    "    for uid, pool_data in pools.items():\n",
    "        # print(f'uid: {uid}, pool_data: {pool_data}')\n",
    "        util_rate = pool_data[\"borrow_amount\"] / (pool_data[\"reserve_size\"] + allocations[uid])\n",
    "        # util_rate = allocations[uid] / (pool_data['reserve_size'] + allocations[uid])\n",
    "        pool_yield = allocations[uid] * supply_rate(\n",
    "            util_rate, pools[uid]\n",
    "        )\n",
    "        # print(f'uid {uid}, reserve: {pool_data[\"reserve_size\"]} allocation: {allocations[uid]} util_rate: {util_rate} yield {pool_yield}')\n",
    "        curr_yield += pool_yield\n",
    "    return curr_yield\n",
    "\n",
    "with open('sample_pools_and_miner_answers.json', 'r') as f:\n",
    "    data = json.load(f)\n",
    "\n",
    "pools = data['pools']\n",
    "\n",
    "print('136', calc_apy(pools, alloc['136']['allocations']))\n",
    "print('169', calc_apy(pools, alloc['169']['allocations']))\n",
    "\n",
    "scores = []\n",
    "for i in range(1000):\n",
    "    scores.append({\n",
    "        '136': get_agg_apy({'total_assets': 2.0, 'pools': pools}, alloc['136']['allocations']),\n",
    "        '169': get_agg_apy({'total_assets': 2.0, 'pools': pools}, alloc['169']['allocations'])\n",
    "    })\n",
    "df = pd.DataFrame(scores)\n",
    "df['win'] = df.idxmax(axis=1)\n",
    "df['win'].value_counts()"
   ]
  },
  {
   "cell_type": "code",
   "execution_count": 17,
   "metadata": {},
   "outputs": [
    {
     "name": "stdout",
     "output_type": "stream",
     "text": [
      "median 0.08788401745313511\n"
     ]
    }
   ],
   "source": [
    "from sturdy.score import run_simulation\n",
    "from sturdy.utils.misc import borrow_rate\n",
    "\n",
    "with open('sample_pools_and_miner_answers.json', 'r') as f:\n",
    "    data = json.load(f)\n",
    "\n",
    "pools = data['pools']\n",
    "\n",
    "uid = '169'\n",
    "\n",
    "simulators = {\n",
    "    '136': run_simulation({'total_assets': 2.0, 'pools': pools}, alloc['136']['allocations']),\n",
    "    '169': run_simulation({'total_assets': 2.0, 'pools': pools}, alloc['169']['allocations']),\n",
    "    'new': run_simulation({'total_assets': 2.0, 'pools': pools}, {pool_id: 0.1 for pool_id in pools.keys()})\n",
    "}\n",
    "\n",
    "# allocations = alloc['136']['allocations']\n",
    "allocations = {pool_id: 0.1 for pool_id in pools.keys()}\n",
    "rates = []\n",
    "for i in range(10):\n",
    "    rates.append(borrow_rate(allocations[str(i)], pools[str(i)]))\n",
    "print('median', np.sum(np.abs(np.array(rates) - np.median(rates))))"
   ]
  },
  {
   "cell_type": "code",
   "execution_count": 18,
   "metadata": {},
   "outputs": [],
   "source": [
    "# pools\n",
    "import copy\n",
    "\n",
    "uid = 'new'\n",
    "allocs = {pool_id: 0.1 for pool_id in pools.keys()}\n",
    "\n",
    "borrow_amounts = [{\n",
    "    pool_id: pool[pool_id]['borrow_amount']\n",
    "        for pool_id in allocs.keys()\n",
    "    }\n",
    "    for pool in simulators[uid].pool_history\n",
    "]\n",
    "\n",
    "df = pd.DataFrame(borrow_amounts)\n",
    "df.mean()\n",
    "new_pools = copy.deepcopy(pools)\n",
    "for pool in new_pools.values():\n",
    "    pool['borrow_amount'] = df[pool['pool_id']].mean()"
   ]
  },
  {
   "cell_type": "code",
   "execution_count": 86,
   "metadata": {},
   "outputs": [
    {
     "name": "stdout",
     "output_type": "stream",
     "text": [
      "The autoreload extension is already loaded. To reload it, use:\n",
      "  %reload_ext autoreload\n",
      "136 0.10617200299035105\n",
      "169 0.1138654327635179\n",
      "136 {'0': 0.10662337287158104, '1': 0.2533625774098979, '2': 0.23525900403185127, '3': 0.18401755315927146, '4': 0.36044025423796827, '5': 0.24496563561435203, '6': 0.05040238333764486, '7': 0.1222333211330441, '8': 0.3216033590983884, '9': 0.12109253910400115}\n"
     ]
    },
    {
     "data": {
      "text/plain": [
       "win\n",
       "136    1000\n",
       "Name: count, dtype: int64"
      ]
     },
     "execution_count": 86,
     "metadata": {},
     "output_type": "execute_result"
    }
   ],
   "source": [
    "%load_ext autoreload\n",
    "%autoreload 2\n",
    "import json\n",
    "from sturdy.protocol import AllocateAssets\n",
    "from sturdy.utils.yiop import yiop_allocation_algorithm\n",
    "\n",
    "with open('sample_pools_and_miner_answers.json', 'r') as f:\n",
    "    data = json.load(f)\n",
    "\n",
    "pools = data['pools']\n",
    "\n",
    "def calc_apy(pools, allocations):\n",
    "    curr_yield = 0\n",
    "    for uid, pool_data in pools.items():\n",
    "        # print(f'uid: {uid}, pool_data: {pool_data}')\n",
    "        util_rate = pool_data[\"borrow_amount\"] / (pool_data[\"reserve_size\"] + allocations[uid])\n",
    "        # util_rate = allocations[uid] / (pool_data['reserve_size'] + allocations[uid])\n",
    "        pool_yield = allocations[uid] * supply_rate(\n",
    "            util_rate, pools[uid]\n",
    "        )\n",
    "        # print(f'uid {uid}, reserve: {pool_data[\"reserve_size\"]} allocation: {allocations[uid]} util_rate: {util_rate} yield {pool_yield}')\n",
    "        curr_yield += pool_yield\n",
    "    return curr_yield\n",
    "\n",
    "\n",
    "allocation = yiop_allocation_algorithm(AllocateAssets(assets_and_pools={'total_assets': 2.0, 'pools': new_pools}))\n",
    "adjusted_allocation = {'0': 0.14331221256725712, '1': 0.24961938930487432, '2': 0.25577597643447086, '3': 0.18357903764354155, '4': 0.3334365311754749, '5': 0.24483514937520867, '6': 0.00012747125790562374, '7': 0.12537311167011267, '8': 0.32248716032642344, '9': 0.1414539602387308}\n",
    "\n",
    "print('136', calc_apy(pools, alloc['136']['allocations']))\n",
    "print('169', calc_apy(pools, alloc['169']['allocations']))\n",
    "print('136', alloc['136']['allocations'])\n",
    "\n",
    "scores = []\n",
    "for i in range(1000):\n",
    "    scores.append({\n",
    "        '136': get_agg_apy({'total_assets': 2.0, 'pools': pools}, alloc['136']['allocations']),\n",
    "        '169': get_agg_apy({'total_assets': 2.0, 'pools': pools}, alloc['169']['allocations']),\n",
    "        'adjusted': get_agg_apy({'total_assets': 2.0, 'pools': pools}, adjusted_allocation)\n",
    "    })\n",
    "df = pd.DataFrame(scores)\n",
    "df['win'] = df.idxmax(axis=1)\n",
    "df['win'].value_counts()\n"
   ]
  },
  {
   "cell_type": "code",
   "execution_count": 82,
   "metadata": {},
   "outputs": [
    {
     "name": "stdout",
     "output_type": "stream",
     "text": [
      "{'0': {'pool_id': '0', 'base_rate': 0.02, 'base_slope': 0.036, 'kink_slope': 0.388, 'optimal_util_rate': 0.65, 'borrow_amount': 0.7, 'reserve_size': 1.0}, '1': {'pool_id': '1', 'base_rate': 0.02, 'base_slope': 0.09, 'kink_slope': 0.639, 'optimal_util_rate': 0.65, 'borrow_amount': 0.7, 'reserve_size': 1.0}, '2': {'pool_id': '2', 'base_rate': 0.04, 'base_slope': 0.061, 'kink_slope': 0.765, 'optimal_util_rate': 0.65, 'borrow_amount': 0.7, 'reserve_size': 1.0}, '3': {'pool_id': '3', 'base_rate': 0.02, 'base_slope': 0.059, 'kink_slope': 0.711, 'optimal_util_rate': 0.7, 'borrow_amount': 0.75, 'reserve_size': 1.0}, '4': {'pool_id': '4', 'base_rate': 0.03, 'base_slope': 0.093, 'kink_slope': 0.937, 'optimal_util_rate': 0.9, 'borrow_amount': 0.9, 'reserve_size': 1.0}, '5': {'pool_id': '5', 'base_rate': 0.01, 'base_slope': 0.099, 'kink_slope': 0.297, 'optimal_util_rate': 0.65, 'borrow_amount': 0.7, 'reserve_size': 1.0}, '6': {'pool_id': '6', 'base_rate': 0.02, 'base_slope': 0.039, 'kink_slope': 0.982, 'optimal_util_rate': 0.85, 'borrow_amount': 0.65, 'reserve_size': 1.0}, '7': {'pool_id': '7', 'base_rate': 0.01, 'base_slope': 0.028, 'kink_slope': 0.868, 'optimal_util_rate': 0.75, 'borrow_amount': 0.85, 'reserve_size': 1.0}, '8': {'pool_id': '8', 'base_rate': 0.04, 'base_slope': 0.054, 'kink_slope': 0.828, 'optimal_util_rate': 0.7, 'borrow_amount': 0.85, 'reserve_size': 1.0}, '9': {'pool_id': '9', 'base_rate': 0.03, 'base_slope': 0.033, 'kink_slope': 0.232, 'optimal_util_rate': 0.8, 'borrow_amount': 0.8, 'reserve_size': 1.0}}\n",
      "{'0': 0.10662337287158104, '1': 0.2533625774098979, '2': 0.23525900403185127, '3': 0.18401755315927146, '4': 0.36044025423796827, '5': 0.24496563561435203, '6': 0.05040238333764486, '7': 0.1222333211330441, '8': 0.3216033590983884, '9': 0.12109253910400115}\n",
      "{'0': 0.0411, '1': 0.2705, '2': 0.2805, '3': 0.1969, '4': 0.3916, '5': 0.2522, '6': 0.0001, '7': 0.0614, '8': 0.3536, '9': 0.1515}\n"
     ]
    }
   ],
   "source": [
    "print(pools)\n",
    "print(alloc['136']['allocations'])\n",
    "print(alloc['169']['allocations'])"
   ]
  },
  {
   "cell_type": "code",
   "execution_count": 76,
   "metadata": {},
   "outputs": [
    {
     "name": "stdout",
     "output_type": "stream",
     "text": [
      "apy 17.766663923586105\n",
      "apy 19.246837021639184\n",
      "169 4.867579157146879\n",
      "136 5.273106033325804\n"
     ]
    },
    {
     "data": {
      "image/png": "[encoded data removed]",
      "text/plain": [
       "<Figure size 640x480 with 1 Axes>"
      ]
     },
     "metadata": {},
     "output_type": "display_data"
    }
   ],
   "source": [
    "\n",
    "\n",
    "\n",
    "from sturdy.score import get_list_agg_apy\n",
    "\n",
    "plot = {}\n",
    "res = get_list_agg_apy({'total_assets': 2.0, 'pools': pools}, alloc['169']['allocations']),\n",
    "print('apy', res[0][0])\n",
    "plot = {'169': res[0][1]}\n",
    "res = get_list_agg_apy({'total_assets': 2.0, 'pools': pools}, alloc['136']['allocations']),\n",
    "print('apy', res[0][0])\n",
    "plot['136'] = res[0][1]\n",
    "\n",
    "df = pd.DataFrame(plot)\n",
    "df.plot()\n",
    "for k, v in plot.items():\n",
    "    print(f'{k} {sum(v)}')\n",
    "\n"
   ]
  },
  {
   "cell_type": "code",
   "execution_count": null,
   "metadata": {},
   "outputs": [],
   "source": [
    "# What if we know pool_history in simulator ahead of time?\n",
    "\n"
   ]
  },
  {
   "cell_type": "code",
   "execution_count": null,
   "metadata": {},
   "outputs": [
    {
     "name": "stderr",
     "output_type": "stream",
     "text": [
      "/var/folders/b3/hrj2lh1d06n_0ldwgv0m27xh0000gn/T/ipykernel_44111/2978696010.py:4: FutureWarning: Series.__getitem__ treating keys as positions is deprecated. In a future version, integer keys will always be treated as labels (consistent with DataFrame behavior). To access a value by position, use `ser.iloc[pos]`\n",
      "  df.iloc[-1][76] # 19.908930204134524\n",
      "/var/folders/b3/hrj2lh1d06n_0ldwgv0m27xh0000gn/T/ipykernel_44111/2978696010.py:5: FutureWarning: Series.__getitem__ treating keys as positions is deprecated. In a future version, integer keys will always be treated as labels (consistent with DataFrame behavior). To access a value by position, use `ser.iloc[pos]`\n",
      "  df.iloc[-1][228] # 19.412394419579094\n",
      "/var/folders/b3/hrj2lh1d06n_0ldwgv0m27xh0000gn/T/ipykernel_44111/2978696010.py:7: FutureWarning: Series.__getitem__ treating keys as positions is deprecated. In a future version, integer keys will always be treated as labels (consistent with DataFrame behavior). To access a value by position, use `ser.iloc[pos]`\n",
      "  len([i for i in df.iloc[-1] if i == df.iloc[-1][228]])\n"
     ]
    },
    {
     "data": {
      "text/plain": [
       "53"
      ]
     },
     "execution_count": 17,
     "metadata": {},
     "output_type": "execute_result"
    }
   ],
   "source": [
    "parsed_json_list = parse_log_file(log_file_path, pattern='sorted apys: ')\n",
    "df = pd.DataFrame(parsed_json_list)\n",
    "\n",
    "df.iloc[-1][76] # 19.908930204134524\n",
    "df.iloc[-1][228] # 19.412394419579094\n",
    "\n",
    "len([i for i in df.iloc[-1] if i == df.iloc[-1][228]])"
   ]
  }
 ],
 "metadata": {
  "kernelspec": {
   "display_name": "SN10",
   "language": "python",
   "name": "python3"
  },
  "language_info": {
   "codemirror_mode": {
    "name": "ipython",
    "version": 3
   },
   "file_extension": ".py",
   "mimetype": "text/x-python",
   "name": "python",
   "nbconvert_exporter": "python",
   "pygments_lexer": "ipython3",
   "version": "3.10.14"
  }
 },
 "nbformat": 4,
 "nbformat_minor": 2
}
