{
 "cells": [
  {
   "cell_type": "code",
   "execution_count": 146,
   "metadata": {},
   "outputs": [],
   "source": [
    "import json\n",
    "import re\n",
    "from loguru import logger\n",
    "\n",
    "\n",
    "def parse_log_file(log_file_path, pattern='sorted apys'):\n",
    "    parsed_data = []\n",
    "    # json_pattern = re.compile(r'sorted apys: ({.*})')\n",
    "    json_pattern = re.compile(rf'{re.escape(pattern)}\\s*({{.*}})')\n",
    "    # json_pattern = re.compile(rf'{re.escape(pattern)}({{.*}})')\n",
    "\n",
    "    def convert_to_valid_json(json_str):\n",
    "        # Replace unquoted keys with quoted keys\n",
    "        json_str = re.sub(r'(\\d+):', r'\"\\1\":', json_str)\n",
    "        return json_str\n",
    "\n",
    "    with open(log_file_path, 'r') as log_file:\n",
    "        for line in log_file:\n",
    "            match = json_pattern.search(line)\n",
    "            if match:\n",
    "                json_str = match.group(1).strip()\n",
    "                json_str = convert_to_valid_json(json_str)\n",
    "                try:\n",
    "                    json_data = json.loads(json_str)\n",
    "                    parsed_data.append(json_data)\n",
    "                except json.JSONDecodeError as e:\n",
    "                    logger.error(f\"Error parsing JSON: {e}\")\n",
    "\n",
    "    return parsed_data\n",
    "\n",
    "# Example usage\n",
    "log_file_path = '/Users/chau.hoang/Downloads/pleasant_bird_2.log'\n",
    "parsed_json_list = parse_log_file(log_file_path, pattern='sorted axon times: ')\n",
    "# parsed_json_list = parse_log_file(log_file_path, pattern='sorted apys: ')"
   ]
  },
  {
   "cell_type": "code",
   "execution_count": null,
   "metadata": {},
   "outputs": [],
   "source": []
  },
  {
   "cell_type": "code",
   "execution_count": 99,
   "metadata": {},
   "outputs": [
    {
     "name": "stdout",
     "output_type": "stream",
     "text": [
      "264\n",
      "Uid: 244 Mean time: 0.9684881017063603\n"
     ]
    },
    {
     "data": {
      "image/png": "[encoded data removed]",
      "text/plain": [
       "<Figure size 640x480 with 1 Axes>"
      ]
     },
     "metadata": {},
     "output_type": "display_data"
    }
   ],
   "source": [
    "import pandas as pd\n",
    "print(len(parsed_json_list))\n",
    "# better = [p for p in parsed_json_list if p['156'] < p['83']]\n",
    "\n",
    "# print(len(better) / len(parsed_json_list))\n",
    "\n",
    "# small = [p for p in parsed_json_list if p['83'] < 1]\n",
    "\n",
    "# len(small)\n",
    "\n",
    "uid = '244'\n",
    "data = [p[uid] for p in parsed_json_list]\n",
    "df = pd.DataFrame({'time': data})\n",
    "df['time'].hist(bins=100)\n",
    "print(f'Uid: {uid} Mean time: {df[\"time\"].mean()}')\n"
   ]
  },
  {
   "cell_type": "code",
   "execution_count": 147,
   "metadata": {},
   "outputs": [
    {
     "data": {
      "text/plain": [
       "161    0.137053\n",
       "156    0.142841\n",
       "203    0.118933\n",
       "255    0.087433\n",
       "101    0.272517\n",
       "1      0.203520\n",
       "100    0.150183\n",
       "10     0.193689\n",
       "dtype: float64"
      ]
     },
     "execution_count": 147,
     "metadata": {},
     "output_type": "execute_result"
    }
   ],
   "source": [
    "# Sorting apy and average score according to the log\n",
    "df = pd.DataFrame(parsed_json_list)\n",
    "df['max_apy'] = df.max(axis=1)\n",
    "columns_to_scale = ['161', '156', '203', '255', '101', '1', '100', '10']\n",
    "# Calculate the ratio\n",
    "ratio_df = df[columns_to_scale].div(df['max_apy'], axis=0)\n",
    "ratio_df.mean()"
   ]
  },
  {
   "cell_type": "code",
   "execution_count": 36,
   "metadata": {},
   "outputs": [
    {
     "data": {
      "text/plain": [
       "161    0.980817\n",
       "156    0.980817\n",
       "203    0.980817\n",
       "255    0.980817\n",
       "101    0.982004\n",
       "1      0.988716\n",
       "100    0.988716\n",
       "10     0.988716\n",
       "dtype: float64"
      ]
     },
     "execution_count": 36,
     "metadata": {},
     "output_type": "execute_result"
    }
   ],
   "source": [
    "# Sorting apy and average score according to the log\n",
    "df = pd.DataFrame(parsed_json_list)\n",
    "df['max_apy'] = df.max(axis=1)\n",
    "columns_to_scale = ['161', '156', '203', '255', '101', '1', '100', '10']\n",
    "# Calculate the ratio\n",
    "ratio_df = df[columns_to_scale].div(df['max_apy'], axis=0)\n",
    "ratio_df.mean()"
   ]
  },
  {
   "cell_type": "code",
   "execution_count": 44,
   "metadata": {},
   "outputs": [
    {
     "data": {
      "text/html": [
       "<pre style=\"white-space:pre;overflow-x:auto;line-height:normal;font-family:Menlo,'DejaVu Sans Mono',consolas,'Courier New',monospace\"><span style=\"color: #800000; text-decoration-color: #800000\">╭─────────────────────────────── </span><span style=\"color: #800000; text-decoration-color: #800000; font-weight: bold\">Traceback </span><span style=\"color: #bf7f7f; text-decoration-color: #bf7f7f; font-weight: bold\">(most recent call last)</span><span style=\"color: #800000; text-decoration-color: #800000\"> ────────────────────────────────╮</span>\n",
       "<span style=\"color: #800000; text-decoration-color: #800000\">│</span> in <span style=\"color: #00ff00; text-decoration-color: #00ff00\">&lt;module&gt;</span>:<span style=\"color: #0000ff; text-decoration-color: #0000ff\">1</span>                                                                                    <span style=\"color: #800000; text-decoration-color: #800000\">│</span>\n",
       "<span style=\"color: #800000; text-decoration-color: #800000\">│</span>                                                                                                  <span style=\"color: #800000; text-decoration-color: #800000\">│</span>\n",
       "<span style=\"color: #800000; text-decoration-color: #800000\">│</span> <span style=\"color: #800000; text-decoration-color: #800000\">❱ </span>1 df = pd.DataFrame(parsed_json_list)                                                          <span style=\"color: #800000; text-decoration-color: #800000\">│</span>\n",
       "<span style=\"color: #800000; text-decoration-color: #800000\">│</span>   <span style=\"color: #7f7f7f; text-decoration-color: #7f7f7f\">2 </span><span style=\"color: #00ffff; text-decoration-color: #00ffff\">print</span>(df.iloc[<span style=\"color: #0000ff; text-decoration-color: #0000ff\">263</span>][<span style=\"color: #808000; text-decoration-color: #808000\">'244'</span>])                                                                   <span style=\"color: #800000; text-decoration-color: #800000\">│</span>\n",
       "<span style=\"color: #800000; text-decoration-color: #800000\">│</span>   <span style=\"color: #7f7f7f; text-decoration-color: #7f7f7f\">3 </span>ss = df.iloc[<span style=\"color: #0000ff; text-decoration-color: #0000ff\">263</span>]                                                                            <span style=\"color: #800000; text-decoration-color: #800000\">│</span>\n",
       "<span style=\"color: #800000; text-decoration-color: #800000\">│</span>   <span style=\"color: #7f7f7f; text-decoration-color: #7f7f7f\">4 </span><span style=\"color: #00ffff; text-decoration-color: #00ffff\">print</span>(ss.sort_values(ascending=<span style=\"color: #0000ff; text-decoration-color: #0000ff\">False</span>))                                                       <span style=\"color: #800000; text-decoration-color: #800000\">│</span>\n",
       "<span style=\"color: #800000; text-decoration-color: #800000\">╰──────────────────────────────────────────────────────────────────────────────────────────────────╯</span>\n",
       "<span style=\"color: #ff0000; text-decoration-color: #ff0000; font-weight: bold\">NameError: </span>name <span style=\"color: #008000; text-decoration-color: #008000\">'parsed_json_list'</span> is not defined\n",
       "</pre>\n"
      ],
      "text/plain": [
       "\u001b[31m╭─\u001b[0m\u001b[31m──────────────────────────────\u001b[0m\u001b[31m \u001b[0m\u001b[1;31mTraceback \u001b[0m\u001b[1;2;31m(most recent call last)\u001b[0m\u001b[31m \u001b[0m\u001b[31m───────────────────────────────\u001b[0m\u001b[31m─╮\u001b[0m\n",
       "\u001b[31m│\u001b[0m in \u001b[92m<module>\u001b[0m:\u001b[94m1\u001b[0m                                                                                    \u001b[31m│\u001b[0m\n",
       "\u001b[31m│\u001b[0m                                                                                                  \u001b[31m│\u001b[0m\n",
       "\u001b[31m│\u001b[0m \u001b[31m❱ \u001b[0m1 df = pd.DataFrame(parsed_json_list)                                                          \u001b[31m│\u001b[0m\n",
       "\u001b[31m│\u001b[0m   \u001b[2m2 \u001b[0m\u001b[96mprint\u001b[0m(df.iloc[\u001b[94m263\u001b[0m][\u001b[33m'\u001b[0m\u001b[33m244\u001b[0m\u001b[33m'\u001b[0m])                                                                   \u001b[31m│\u001b[0m\n",
       "\u001b[31m│\u001b[0m   \u001b[2m3 \u001b[0mss = df.iloc[\u001b[94m263\u001b[0m]                                                                            \u001b[31m│\u001b[0m\n",
       "\u001b[31m│\u001b[0m   \u001b[2m4 \u001b[0m\u001b[96mprint\u001b[0m(ss.sort_values(ascending=\u001b[94mFalse\u001b[0m))                                                       \u001b[31m│\u001b[0m\n",
       "\u001b[31m╰──────────────────────────────────────────────────────────────────────────────────────────────────╯\u001b[0m\n",
       "\u001b[1;91mNameError: \u001b[0mname \u001b[32m'parsed_json_list'\u001b[0m is not defined\n"
      ]
     },
     "metadata": {},
     "output_type": "display_data"
    }
   ],
   "source": [
    "\n",
    "df = pd.DataFrame(parsed_json_list)\n",
    "print(df.iloc[263]['244'])\n",
    "ss = df.iloc[263]\n",
    "print(ss.sort_values(ascending=False))\n",
    "ss.sort_values()[ss > 15].hist(bins=200)\n",
    "# df.iloc[263].sort_values().hist(bins=200)"
   ]
  },
  {
   "cell_type": "code",
   "execution_count": 53,
   "metadata": {},
   "outputs": [],
   "source": [
    "import json\n",
    "\n",
    "def convert_to_valid_json(json_str):\n",
    "    # Replace unquoted keys with quoted keys\n",
    "    json_str = re.sub(r'(\\d+):', r\"'\\1':\", json_str)\n",
    "    return json_str\n"
   ]
  },
  {
   "cell_type": "code",
   "execution_count": 56,
   "metadata": {},
   "outputs": [
    {
     "name": "stdout",
     "output_type": "stream",
     "text": [
      "{'apy': 20.61983099229947, 'allocations': {'0': 0.10662337287158104, '1': 0.2533625774098979, '2': 0.23525900403185127, '3': 0.18401755315927146, '4': 0.36044025423796827, '5': 0.24496563561435203, '6': 0.05040238333764486, '7': 0.1222333211330441, '8': 0.3216033590983884, '9': 0.12109253910400115}}\n",
      "{'apy': 20.61983099229947, 'allocations': {'0': 0.10662337287158104, '1': 0.2533625774098979, '2': 0.23525900403185127, '3': 0.18401755315927146, '4': 0.36044025423796827, '5': 0.24496563561435203, '6': 0.05040238333764486, '7': 0.1222333211330441, '8': 0.3216033590983884, '9': 0.12109253910400115}}\n",
      "{'apy': 19.91857056197781, 'allocations': {'0': 0.0411, '1': 0.2705, '2': 0.2805, '3': 0.1969, '4': 0.3916, '5': 0.2522, '6': 0.0001, '7': 0.0614, '8': 0.3536, '9': 0.1515}}\n",
      "{'apy': 19.91857056197781, 'allocations': {'0': 0.0411, '1': 0.2705, '2': 0.2805, '3': 0.1969, '4': 0.3916, '5': 0.2522, '6': 0.0001, '7': 0.0614, '8': 0.3536, '9': 0.1515}}\n"
     ]
    }
   ],
   "source": [
    "import re, json\n",
    "\n",
    "with open('sample_pools_and_miner_answers.json', 'r') as f:\n",
    "    data = json.load(f)\n",
    "\n",
    "alloc = data['answers']\n",
    "print(alloc['136'])\n",
    "print(alloc['212'])\n",
    "print(alloc['169'])\n",
    "print(alloc['201'])"
   ]
  },
  {
   "cell_type": "code",
   "execution_count": 142,
   "metadata": {},
   "outputs": [
    {
     "name": "stdout",
     "output_type": "stream",
     "text": [
      "136 0.10617200299035105\n",
      "169 0.1138654327635179\n"
     ]
    },
    {
     "data": {
      "text/plain": [
       "win\n",
       "136    543\n",
       "169    457\n",
       "Name: count, dtype: int64"
      ]
     },
     "execution_count": 142,
     "metadata": {},
     "output_type": "execute_result"
    }
   ],
   "source": [
    "import pandas as pd\n",
    "import numpy as np\n",
    "from sturdy.score import get_agg_apy\n",
    "from sturdy.utils.misc import supply_rate\n",
    "\n",
    "def calc_apy(pools, allocations):\n",
    "    curr_yield = 0\n",
    "    for uid, pool_data in pools.items():\n",
    "        # print(f'uid: {uid}, pool_data: {pool_data}')\n",
    "        util_rate = pool_data[\"borrow_amount\"] / (pool_data[\"reserve_size\"] + allocations[uid])\n",
    "        # util_rate = allocations[uid] / (pool_data['reserve_size'] + allocations[uid])\n",
    "        pool_yield = allocations[uid] * supply_rate(\n",
    "            util_rate, pools[uid]\n",
    "        )\n",
    "        # print(f'uid {uid}, reserve: {pool_data[\"reserve_size\"]} allocation: {allocations[uid]} util_rate: {util_rate} yield {pool_yield}')\n",
    "        curr_yield += pool_yield\n",
    "    return curr_yield\n",
    "\n",
    "with open('sample_pools_and_miner_answers.json', 'r') as f:\n",
    "    data = json.load(f)\n",
    "\n",
    "pools = data['pools']\n",
    "\n",
    "print('136', calc_apy(pools, alloc['136']['allocations']))\n",
    "print('169', calc_apy(pools, alloc['169']['allocations']))\n",
    "\n",
    "scores = []\n",
    "for i in range(1000):\n",
    "    scores.append({\n",
    "        '136': get_agg_apy({'total_assets': 2.0, 'pools': pools}, alloc['136']['allocations']),\n",
    "        '169': get_agg_apy({'total_assets': 2.0, 'pools': pools}, alloc['169']['allocations'])\n",
    "    })\n",
    "df = pd.DataFrame(scores)\n",
    "df['win'] = df.idxmax(axis=1)\n",
    "df['win'].value_counts()"
   ]
  },
  {
   "cell_type": "code",
   "execution_count": 138,
   "metadata": {},
   "outputs": [],
   "source": [
    "from sturdy.score import run_simulation\n",
    "\n",
    "with open('sample_pools_and_miner_answers.json', 'r') as f:\n",
    "    data = json.load(f)\n",
    "\n",
    "pools = data['pools']\n",
    "\n",
    "uid = '169'\n",
    "\n",
    "simulators = {\n",
    "    '136': run_simulation({'total_assets': 2.0, 'pools': pools}, alloc['136']['allocations']),\n",
    "    '169': run_simulation({'total_assets': 2.0, 'pools': pools}, alloc['169']['allocations']),\n",
    "    'new': run_simulation({'total_assets': 2.0, 'pools': pools}, {pool_id: 0.1 for pool_id in pools.keys()})\n",
    "}\n"
   ]
  },
  {
   "cell_type": "code",
   "execution_count": 144,
   "metadata": {},
   "outputs": [],
   "source": [
    "# pools\n",
    "import copy\n",
    "\n",
    "uid = 'new'\n",
    "allocs = {pool_id: 0.1 for pool_id in pools.keys()}\n",
    "\n",
    "borrow_amounts = [{\n",
    "    pool_id: pool[pool_id]['borrow_amount']\n",
    "        for pool_id in allocs.keys()\n",
    "    }\n",
    "    for pool in simulators[uid].pool_history\n",
    "]\n",
    "\n",
    "df = pd.DataFrame(borrow_amounts)\n",
    "df.mean()\n",
    "new_pools = copy.deepcopy(pools)\n",
    "for pool in new_pools.values():\n",
    "    pool['borrow_amount'] = df[pool['pool_id']].mean()"
   ]
  },
  {
   "cell_type": "code",
   "execution_count": 182,
   "metadata": {},
   "outputs": [
    {
     "name": "stdout",
     "output_type": "stream",
     "text": [
      "The autoreload extension is already loaded. To reload it, use:\n",
      "  %reload_ext autoreload\n",
      "136 0.10617200299035105\n",
      "169 0.1138654327635179\n"
     ]
    },
    {
     "data": {
      "text/plain": [
       "win\n",
       "136    1000\n",
       "Name: count, dtype: int64"
      ]
     },
     "execution_count": 182,
     "metadata": {},
     "output_type": "execute_result"
    }
   ],
   "source": [
    "%load_ext autoreload\n",
    "%autoreload 2\n",
    "from sturdy.protocol import AllocateAssets\n",
    "from sturdy.utils.yiop import yiop_allocation_algorithm\n",
    "\n",
    "\n",
    "def calc_apy(pools, allocations):\n",
    "    curr_yield = 0\n",
    "    for uid, pool_data in pools.items():\n",
    "        # print(f'uid: {uid}, pool_data: {pool_data}')\n",
    "        util_rate = pool_data[\"borrow_amount\"] / (pool_data[\"reserve_size\"] + allocations[uid])\n",
    "        # util_rate = allocations[uid] / (pool_data['reserve_size'] + allocations[uid])\n",
    "        pool_yield = allocations[uid] * supply_rate(\n",
    "            util_rate, pools[uid]\n",
    "        )\n",
    "        # print(f'uid {uid}, reserve: {pool_data[\"reserve_size\"]} allocation: {allocations[uid]} util_rate: {util_rate} yield {pool_yield}')\n",
    "        curr_yield += pool_yield\n",
    "    return curr_yield\n",
    "\n",
    "\n",
    "allocation = yiop_allocation_algorithm(AllocateAssets(assets_and_pools={'total_assets': 2.0, 'pools': new_pools}))\n",
    "\n",
    "print('136', calc_apy(pools, alloc['136']['allocations']))\n",
    "print('169', calc_apy(pools, alloc['169']['allocations']))\n",
    "\n",
    "scores = []\n",
    "for i in range(1000):\n",
    "    scores.append({\n",
    "        '136': get_agg_apy({'total_assets': 2.0, 'pools': pools}, alloc['136']['allocations']),\n",
    "        '169': get_agg_apy({'total_assets': 2.0, 'pools': pools}, alloc['169']['allocations']),\n",
    "        'new': get_agg_apy({'total_assets': 2.0, 'pools': pools}, allocation)\n",
    "    })\n",
    "df = pd.DataFrame(scores)\n",
    "df['win'] = df.idxmax(axis=1)\n",
    "df['win'].value_counts()\n",
    "\n"
   ]
  },
  {
   "cell_type": "code",
   "execution_count": 167,
   "metadata": {},
   "outputs": [
    {
     "data": {
      "text/plain": [
       "{'0': {'pool_id': '0',\n",
       "  'base_rate': 0.02,\n",
       "  'base_slope': 0.036,\n",
       "  'kink_slope': 0.388,\n",
       "  'optimal_util_rate': 0.65,\n",
       "  'borrow_amount': 0.7,\n",
       "  'reserve_size': 1.0},\n",
       " '1': {'pool_id': '1',\n",
       "  'base_rate': 0.02,\n",
       "  'base_slope': 0.09,\n",
       "  'kink_slope': 0.639,\n",
       "  'optimal_util_rate': 0.65,\n",
       "  'borrow_amount': 0.7,\n",
       "  'reserve_size': 1.0},\n",
       " '2': {'pool_id': '2',\n",
       "  'base_rate': 0.04,\n",
       "  'base_slope': 0.061,\n",
       "  'kink_slope': 0.765,\n",
       "  'optimal_util_rate': 0.65,\n",
       "  'borrow_amount': 0.7,\n",
       "  'reserve_size': 1.0},\n",
       " '3': {'pool_id': '3',\n",
       "  'base_rate': 0.02,\n",
       "  'base_slope': 0.059,\n",
       "  'kink_slope': 0.711,\n",
       "  'optimal_util_rate': 0.7,\n",
       "  'borrow_amount': 0.75,\n",
       "  'reserve_size': 1.0},\n",
       " '4': {'pool_id': '4',\n",
       "  'base_rate': 0.03,\n",
       "  'base_slope': 0.093,\n",
       "  'kink_slope': 0.937,\n",
       "  'optimal_util_rate': 0.9,\n",
       "  'borrow_amount': 0.9,\n",
       "  'reserve_size': 1.0},\n",
       " '5': {'pool_id': '5',\n",
       "  'base_rate': 0.01,\n",
       "  'base_slope': 0.099,\n",
       "  'kink_slope': 0.297,\n",
       "  'optimal_util_rate': 0.65,\n",
       "  'borrow_amount': 0.7,\n",
       "  'reserve_size': 1.0},\n",
       " '6': {'pool_id': '6',\n",
       "  'base_rate': 0.02,\n",
       "  'base_slope': 0.039,\n",
       "  'kink_slope': 0.982,\n",
       "  'optimal_util_rate': 0.85,\n",
       "  'borrow_amount': 0.65,\n",
       "  'reserve_size': 1.0},\n",
       " '7': {'pool_id': '7',\n",
       "  'base_rate': 0.01,\n",
       "  'base_slope': 0.028,\n",
       "  'kink_slope': 0.868,\n",
       "  'optimal_util_rate': 0.75,\n",
       "  'borrow_amount': 0.85,\n",
       "  'reserve_size': 1.0},\n",
       " '8': {'pool_id': '8',\n",
       "  'base_rate': 0.04,\n",
       "  'base_slope': 0.054,\n",
       "  'kink_slope': 0.828,\n",
       "  'optimal_util_rate': 0.7,\n",
       "  'borrow_amount': 0.85,\n",
       "  'reserve_size': 1.0},\n",
       " '9': {'pool_id': '9',\n",
       "  'base_rate': 0.03,\n",
       "  'base_slope': 0.033,\n",
       "  'kink_slope': 0.232,\n",
       "  'optimal_util_rate': 0.8,\n",
       "  'borrow_amount': 0.8,\n",
       "  'reserve_size': 1.0}}"
      ]
     },
     "execution_count": 167,
     "metadata": {},
     "output_type": "execute_result"
    }
   ],
   "source": [
    "# What if we know pool_history in simulator ahead of time?\n",
    "\n"
   ]
  },
  {
   "cell_type": "code",
   "execution_count": 166,
   "metadata": {},
   "outputs": [
    {
     "name": "stderr",
     "output_type": "stream",
     "text": [
      "/var/folders/b3/hrj2lh1d06n_0ldwgv0m27xh0000gn/T/ipykernel_44625/2978696010.py:4: FutureWarning: Series.__getitem__ treating keys as positions is deprecated. In a future version, integer keys will always be treated as labels (consistent with DataFrame behavior). To access a value by position, use `ser.iloc[pos]`\n",
      "  df.iloc[-1][76] # 19.908930204134524\n",
      "/var/folders/b3/hrj2lh1d06n_0ldwgv0m27xh0000gn/T/ipykernel_44625/2978696010.py:5: FutureWarning: Series.__getitem__ treating keys as positions is deprecated. In a future version, integer keys will always be treated as labels (consistent with DataFrame behavior). To access a value by position, use `ser.iloc[pos]`\n",
      "  df.iloc[-1][228] # 19.412394419579094\n",
      "/var/folders/b3/hrj2lh1d06n_0ldwgv0m27xh0000gn/T/ipykernel_44625/2978696010.py:7: FutureWarning: Series.__getitem__ treating keys as positions is deprecated. In a future version, integer keys will always be treated as labels (consistent with DataFrame behavior). To access a value by position, use `ser.iloc[pos]`\n",
      "  len([i for i in df.iloc[-1] if i == df.iloc[-1][228]])\n"
     ]
    },
    {
     "data": {
      "text/plain": [
       "59"
      ]
     },
     "execution_count": 166,
     "metadata": {},
     "output_type": "execute_result"
    }
   ],
   "source": [
    "parsed_json_list = parse_log_file(log_file_path, pattern='sorted apys: ')\n",
    "df = pd.DataFrame(parsed_json_list)\n",
    "\n",
    "df.iloc[-1][76] # 19.908930204134524\n",
    "df.iloc[-1][228] # 19.412394419579094\n",
    "\n",
    "len([i for i in df.iloc[-1] if i == df.iloc[-1][228]])"
   ]
  }
 ],
 "metadata": {
  "kernelspec": {
   "display_name": "SN10",
   "language": "python",
   "name": "python3"
  },
  "language_info": {
   "codemirror_mode": {
    "name": "ipython",
    "version": 3
   },
   "file_extension": ".py",
   "mimetype": "text/x-python",
   "name": "python",
   "nbconvert_exporter": "python",
   "pygments_lexer": "ipython3",
   "version": "3.10.14"
  }
 },
 "nbformat": 4,
 "nbformat_minor": 2
}
